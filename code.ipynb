{
  "nbformat": 4,
  "nbformat_minor": 0,
  "metadata": {
    "colab": {
      "provenance": []
    },
    "kernelspec": {
      "name": "python3",
      "display_name": "Python 3"
    },
    "language_info": {
      "name": "python"
    }
  },
  "cells": [
    {
      "cell_type": "code",
      "source": [
        "import selenium.webdriver as webdriver\n",
        "from bs4 import BeautifulSoup\n",
        "import time\n",
        "import re\n",
        "from selenium.webdriver.common.keys import Keys\n",
        "from selenium.webdriver.common.by import By\n",
        "from selenium.webdriver.edge.service import Service\n",
        "from selenium.webdriver.edge.options import Options\n",
        "\n",
        "driver =webdriver.Edge(executable_path=\"msedgedriver.exe\")\n",
        "driver.implicitly_wait(0.5)\n",
        "\n",
        "driver.get(\"https://www.linkedin.com/login?\")\n",
        "driver.implicitly_wait(10)\n",
        "\n",
        "username = driver.find_element('id',\"username\")\n",
        "username.send_keys(\"enter your user name here****\")\n",
        "\n",
        "pword = driver.find_element('id',\"password\")\n",
        "pword.send_keys(\"Enter your password here***\")\n",
        "\n",
        "driver.find_element(By.XPATH,\"//button[@type='submit']\").click()\n",
        "profile_url = \"paste the linked post link here..\"\n",
        "driver.get(profile_url)\n",
        "\n",
        "#wait for 5 secound to load the profile\n",
        "time.sleep(5)\n",
        "show_likes=driver.find_element_by_class_name(\"social-details-social-counts__reactionscount\")\n",
        "print(show_likes)\n",
        "show_likes.click()\n",
        "# --------------------for roll the list of all who like the post----------------------\n",
        "\n",
        "start = time.time()\n",
        "# will be used in the while loop\n",
        "initialScroll = 0\n",
        "finalScroll = 1000\n",
        "count = 1\n",
        "while True:\n",
        "\n",
        " #wait untill the page is loaded\n",
        " time.sleep(5)\n",
        "\n",
        " elements = driver.find_elements_by_xpath(\"//*[contains(@class, 'display-flex') and\n",
        "contains(@class, 'p5')]\")\n",
        " if elements:\n",
        "\n",
        "   element = elements[0]\n",
        " else:\n",
        "\n",
        "   print(\"Class 'display-flex p5' not found on the page\")\n",
        " \n",
        " element.click()\n",
        " driver.execute_script(f\"window.scrollTo({initialScroll}, {finalScroll})\")\n",
        "\n",
        " # assign initial scroll with finalScroll variable\n",
        " initialScroll = finalScroll\n",
        " finalScroll += 1000\n",
        " print(elements[0])\n",
        " \n",
        " # wait for 4 sec so data can load\n",
        " time.sleep(4)\n",
        " end = time.time()\n",
        "\n",
        " # We will scroll for 60 seconds.\n",
        " if round(end - start) > 60:\n",
        " break\n",
        "details = driver.page_source\n",
        "soup = BeautifulSoup(details, 'lxml')\n",
        "\n",
        "#print(name1)\n",
        "only_name = [tag.find('span', attrs={'dir': 'ltr'}).text for tag in\n",
        "soup.find_all('div', class_='artdeco-entity-lockup__title')]\n",
        "\n",
        "only_position= [tag.text.strip() for tag in soup.find_all('div', class_='artdecoentity-lockup__caption')]\n",
        "\n",
        "data=dict(map(lambda i,j : (i,j),only_name,only_position))\n",
        "print(data)"
      ],
      "metadata": {
        "id": "cYrdBUWach0q",
        "colab": {
          "base_uri": "https://localhost:8080/"
        },
        "outputId": "f704069b-7b83-4822-d383-dfa13ec28e05"
      },
      "execution_count": null,
      "outputs": [
        {
          "output_type": "stream",
          "name": "stdout",
          "text": [
            "10 years,10 days,10 minutes and 10 seconds\n"
          ]
        }
      ]
    }
  ]
}